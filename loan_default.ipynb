{
  "nbformat": 4,
  "nbformat_minor": 0,
  "metadata": {
    "colab": {
      "provenance": []
    },
    "kernelspec": {
      "name": "python3",
      "display_name": "Python 3"
    },
    "language_info": {
      "name": "python"
    }
  },
  "cells": [
    {
      "cell_type": "markdown",
      "source": [
        "# **Import Libraries**"
      ],
      "metadata": {
        "id": "12hyNX6QUh-1"
      }
    },
    {
      "cell_type": "code",
      "source": [
        "import pandas as pd\n",
        "from sklearn.model_selection import train_test_split\n",
        "from sklearn.ensemble import RandomForestClassifier\n",
        "from sklearn.linear_model import LogisticRegression\n",
        "from sklearn.preprocessing import StandardScaler\n",
        "from sklearn.metrics import accuracy_score"
      ],
      "metadata": {
        "id": "am25t85Xe9P_"
      },
      "execution_count": null,
      "outputs": []
    },
    {
      "cell_type": "markdown",
      "source": [
        "# Load Dataset and split it into training and testing"
      ],
      "metadata": {
        "id": "emww2aZWfOQO"
      }
    },
    {
      "cell_type": "code",
      "source": [
        "try:\n",
        "    loan_data = pd.read_csv('loan.csv')\n",
        "except FileNotFoundError:\n",
        "    print(\"Error: 'loan.csv' not found. Please upload the file.\")\n",
        "    exit()\n",
        "\n",
        "\n",
        "X = loan_data.drop('default', axis=1)\n",
        "y = loan_data['default']\n",
        "\n",
        "X_train, X_test, y_train, y_test = train_test_split(X, y, test_size=0.2, random_state=42)"
      ],
      "metadata": {
        "id": "yxvemDjJfAqL"
      },
      "execution_count": null,
      "outputs": []
    },
    {
      "cell_type": "markdown",
      "source": [
        "# Train the model and test its accuracy"
      ],
      "metadata": {
        "id": "OvIg7E1wfib5"
      }
    },
    {
      "cell_type": "code",
      "source": [
        "model = RandomForestClassifier(random_state=42)\n",
        "model.fit(X_train, y_train)\n",
        "\n",
        "\n",
        "y_pred = model.predict(X_test)\n",
        "accuracy = accuracy_score(y_test, y_pred)\n",
        "print(f\"Random Forest Model Accuracy: {accuracy * 100:.2f}%\")"
      ],
      "metadata": {
        "id": "AZWYvIplfE3O"
      },
      "execution_count": null,
      "outputs": []
    },
    {
      "cell_type": "markdown",
      "source": [
        "# Write functions to predict loan defaulter and expected loss"
      ],
      "metadata": {
        "id": "3MSNp00_forX"
      }
    },
    {
      "cell_type": "code",
      "source": [
        "def predict_pd(loan_features):\n",
        "    loan_df = pd.DataFrame([loan_features], columns=X_train.columns)\n",
        "    loan_df = loan_df.fillna(0)\n",
        "    pd_probability = model.predict_proba(loan_df)[:,1][0]\n",
        "    return pd_probability\n",
        "\n",
        "def expected_loss(loan_features, loan_amount, recovery_rate=0.10):\n",
        "    pd_probability = predict_pd(loan_features)\n",
        "    expected_loss_value = pd_probability * loan_amount * (1 - recovery_rate)\n",
        "    return expected_loss_value"
      ],
      "metadata": {
        "id": "SJ8R6RNTfJIZ"
      },
      "execution_count": null,
      "outputs": []
    },
    {
      "cell_type": "markdown",
      "source": [
        "# Finally, we test the code with sample values"
      ],
      "metadata": {
        "id": "Nb8KXjAvf1pm"
      }
    },
    {
      "cell_type": "code",
      "source": [
        "loan_features_example = {\n",
        "    'customer_id': 123,\n",
        "    'credit_lines_outstanding': 3,\n",
        "    'loan_amt_outstanding': 50000,\n",
        "    'total_debt_outstanding': 100000,\n",
        "    'income': 400000,\n",
        "    'years_employed': 3,\n",
        "    'fico_score': 600\n",
        "    }\n",
        "\n",
        "loan_amount = 305000\n",
        "el = expected_loss(loan_features_example, loan_amount)\n",
        "print(f\"Expected Loss: ${el}\")"
      ],
      "metadata": {
        "id": "x9fX6hz_fLzw"
      },
      "execution_count": null,
      "outputs": []
    }
  ]
}